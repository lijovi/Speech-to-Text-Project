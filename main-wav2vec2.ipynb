{
 "cells": [
  {
   "cell_type": "code",
   "execution_count": 47,
   "metadata": {},
   "outputs": [],
   "source": [
    "import torchaudio\n",
    "import torch\n",
    "import IPython\n",
    "import matplotlib\n",
    "import matplotlib.pyplot as plt\n",
    "import tensorflow as tf\n",
    "import os\n",
    "import numpy as np\n",
    "import random"
   ]
  },
  {
   "cell_type": "code",
   "execution_count": 48,
   "metadata": {},
   "outputs": [
    {
     "name": "stdout",
     "output_type": "stream",
     "text": [
      "Sample Rate:  16000\n",
      "Labels:  ('-', '|', 'E', 'T', 'A', 'O', 'N', 'I', 'H', 'S', 'R', 'D', 'L', 'U', 'M', 'W', 'C', 'F', 'G', 'Y', 'P', 'B', 'V', 'K', \"'\", 'X', 'J', 'Q', 'Z')\n"
     ]
    }
   ],
   "source": [
    "bundle = torchaudio.pipelines.WAV2VEC2_ASR_BASE_960H\n",
    "\n",
    "\n",
    "print('Sample Rate: ', bundle.sample_rate)\n",
    "print('Labels: ', bundle.get_labels())"
   ]
  },
  {
   "cell_type": "code",
   "execution_count": 39,
   "metadata": {},
   "outputs": [],
   "source": [
    "model = bundle.get_model()"
   ]
  },
  {
   "cell_type": "code",
   "execution_count": 40,
   "metadata": {},
   "outputs": [
    {
     "name": "stdout",
     "output_type": "stream",
     "text": [
      "Found 64727 files belonging to 31 classes.\n",
      "Using 51782 files for training.\n",
      "Using 12945 files for validation.\n"
     ]
    }
   ],
   "source": [
    "DATASET_PATH = './speech_commands_v0.01/'\n",
    "\n",
    "train_ds, val_ds = tf.keras.utils.audio_dataset_from_directory(\n",
    "    directory = DATASET_PATH,\n",
    "    batch_size = 64,\n",
    "    output_sequence_length = 16000,\n",
    "    validation_split = 0.2,\n",
    "    subset = \"both\",\n",
    "    seed = 0\n",
    ")\n",
    "\n",
    "test_ds = val_ds.shard(num_shards = 2, index = 0)\n",
    "val_ds = val_ds.shard(num_shards = 2, index = 1)"
   ]
  },
  {
   "cell_type": "code",
   "execution_count": 41,
   "metadata": {},
   "outputs": [
    {
     "name": "stdout",
     "output_type": "stream",
     "text": [
      "['_background_noise_' 'bed' 'bird' 'cat' 'dog' 'down' 'eight' 'five'\n",
      " 'four' 'go' 'happy' 'house' 'left' 'marvin' 'nine' 'no' 'off' 'on' 'one'\n",
      " 'right' 'seven' 'sheila' 'six' 'stop' 'three' 'tree' 'two' 'up' 'wow'\n",
      " 'yes' 'zero']\n"
     ]
    }
   ],
   "source": [
    "label_names = np.array(train_ds.class_names)\n",
    "print(label_names)"
   ]
  },
  {
   "cell_type": "code",
   "execution_count": 42,
   "metadata": {},
   "outputs": [],
   "source": [
    "def squeeze(audio, label):\n",
    "    audio = tf.squeeze(audio, axis=-1)\n",
    "    return audio, label\n",
    "\n",
    "train_ds = train_ds.map(squeeze, tf.data.AUTOTUNE)\n",
    "val_ds = val_ds.map(squeeze, tf.data.AUTOTUNE)\n",
    "test_ds = test_ds.map(squeeze, tf.data.AUTOTUNE)"
   ]
  },
  {
   "cell_type": "code",
   "execution_count": 43,
   "metadata": {},
   "outputs": [],
   "source": [
    "def get_spectrogram(audio):\n",
    "    spectrogram = tf.signal.stft(audio, frame_length=255, frame_step=128)\n",
    "    spectrogram = tf.abs(spectrogram)\n",
    "    spectrogram = spectrogram[..., tf.newaxis]\n",
    "    \n",
    "    return spectrogram\n",
    "\n",
    "\n",
    "def make_spectrogram_ds(ds):\n",
    "    return ds.map(map_func = lambda audio, label: (get_spectrogram(audio), label), num_parallel_calls=tf.data.AUTOTUNE)\n",
    "\n",
    "\n",
    "train_spectrogram_ds = make_spectrogram_ds(train_ds)\n",
    "test_spectrogram_ds = make_spectrogram_ds(test_ds)\n",
    "val_spectrogram_ds = make_spectrogram_ds(val_ds)\n",
    "\n",
    "train_spectrogram_ds= train_spectrogram_ds.cache().shuffle(2030).prefetch(tf.data.AUTOTUNE)\n",
    "test_spectrogram_ds = test_spectrogram_ds.cache().prefetch(tf.data.AUTOTUNE)\n",
    "val_spectrogram_ds = val_spectrogram_ds.cache().prefetch(tf.data.AUTOTUNE)"
   ]
  },
  {
   "cell_type": "code",
   "execution_count": 44,
   "metadata": {},
   "outputs": [],
   "source": [
    "for sample_ds, sample_ds_labels in test_ds:\n",
    "    break\n",
    "def convert_to_label(labels):\n",
    "    # return [label_names[label.numpy()] for label in labels]\n",
    "    return [label_names[label] for label in labels]"
   ]
  },
  {
   "cell_type": "code",
   "execution_count": 45,
   "metadata": {},
   "outputs": [],
   "source": [
    "with torch.inference_mode():\n",
    "    emission, _ = model(torch.from_numpy(np.asarray(sample_ds)))"
   ]
  },
  {
   "cell_type": "code",
   "execution_count": 30,
   "metadata": {},
   "outputs": [],
   "source": [
    "class GreedyCTCDecoder(torch.nn.Module):\n",
    "    def __init__(self, labels):\n",
    "        super().__init__()\n",
    "        self.labels = labels\n",
    "        self.blank = 0\n",
    "        \n",
    "    def forward(self, emission: torch.Tensor) -> str:\n",
    "        indices = torch.argmax(emission, dim = -1)\n",
    "        indices = torch.unique_consecutive(indices, dim = -1)\n",
    "        indices = [i for i in indices if i != self.blank]\n",
    "        kalimat = ''.join([self.labels[i] for i in indices])\n",
    "        kalimat = kalimat.replace('|', ' ')\n",
    "        return kalimat.lower()"
   ]
  },
  {
   "cell_type": "code",
   "execution_count": 31,
   "metadata": {},
   "outputs": [],
   "source": [
    "decoder = GreedyCTCDecoder(labels = bundle.get_labels())\n",
    "text = decoder(emission[0])"
   ]
  },
  {
   "cell_type": "code",
   "execution_count": 32,
   "metadata": {},
   "outputs": [],
   "source": [
    "num = len(sample_ds_labels)"
   ]
  },
  {
   "cell_type": "code",
   "execution_count": 51,
   "metadata": {},
   "outputs": [
    {
     "name": "stdout",
     "output_type": "stream",
     "text": [
      "True Label : stop Predicted Label : stop \n",
      "True Label : three Predicted Label : three \n",
      "True Label : on Predicted Label : on \n",
      "True Label : seven Predicted Label : seven \n",
      "True Label : stop Predicted Label : stop \n",
      "True Label : up Predicted Label : up \n",
      "True Label : down Predicted Label : down \n",
      "True Label : five Predicted Label : five \n",
      "True Label : two Predicted Label : two \n",
      "True Label : four Predicted Label : four \n",
      "True Label : five Predicted Label : five \n",
      "True Label : stop Predicted Label : stop \n",
      "True Label : zero Predicted Label : zero \n",
      "True Label : marvin Predicted Label : marvin \n",
      "True Label : no Predicted Label : no \n",
      "True Label : four Predicted Label : four \n",
      "True Label : marvin Predicted Label : marvin \n",
      "True Label : down Predicted Label : don \n",
      "True Label : zero Predicted Label : zero \n",
      "True Label : seven Predicted Label : seven \n",
      "True Label : sheila Predicted Label : shila \n",
      "True Label : one Predicted Label : \n",
      "True Label : stop Predicted Label : stop \n",
      "True Label : three Predicted Label : tthree \n",
      "True Label : four Predicted Label : four \n",
      "True Label : six Predicted Label : sex \n",
      "True Label : two Predicted Label : two \n",
      "True Label : three Predicted Label : three \n",
      "True Label : down Predicted Label : down \n",
      "True Label : bird Predicted Label : bert \n",
      "True Label : up Predicted Label : up \n",
      "True Label : three Predicted Label : three \n",
      "True Label : nine Predicted Label : nine \n",
      "True Label : zero Predicted Label : zero \n",
      "True Label : happy Predicted Label : happy \n",
      "True Label : sheila Predicted Label : shila \n",
      "True Label : stop Predicted Label : stop \n",
      "True Label : up Predicted Label : hark \n",
      "True Label : left Predicted Label : laughed \n",
      "True Label : zero Predicted Label : zero \n",
      "True Label : no Predicted Label : no \n",
      "True Label : stop Predicted Label : stop \n",
      "True Label : house Predicted Label : house \n",
      "True Label : wow Predicted Label : wow \n",
      "True Label : marvin Predicted Label : marvin \n",
      "True Label : house Predicted Label : house \n",
      "True Label : three Predicted Label : three \n",
      "True Label : one Predicted Label : wine \n",
      "True Label : bird Predicted Label : bird \n",
      "True Label : tree Predicted Label : tree \n",
      "True Label : no Predicted Label : no \n",
      "True Label : four Predicted Label : for \n",
      "True Label : sheila Predicted Label : shila \n",
      "True Label : three Predicted Label : three \n",
      "True Label : two Predicted Label : two \n",
      "True Label : yes Predicted Label : yes \n",
      "True Label : go Predicted Label : go \n",
      "True Label : yes Predicted Label : yes \n",
      "True Label : bed Predicted Label : bed \n",
      "True Label : wow Predicted Label : while \n",
      "True Label : two Predicted Label : do \n",
      "True Label : six Predicted Label : wa six o\n",
      "True Label : off Predicted Label : uff \n",
      "True Label : two Predicted Label : two \n",
      "True Label : right Predicted Label : right \n",
      "True Label : sheila Predicted Label : shela \n",
      "True Label : sheila Predicted Label : shila \n",
      "True Label : two Predicted Label : two \n",
      "True Label : three Predicted Label : three \n",
      "True Label : three Predicted Label : three \n",
      "True Label : one Predicted Label : one \n",
      "True Label : right Predicted Label : rigt \n",
      "True Label : three Predicted Label : three \n",
      "True Label : left Predicted Label : left \n",
      "True Label : go Predicted Label : go \n",
      "True Label : stop Predicted Label : stop \n",
      "True Label : house Predicted Label : house \n",
      "True Label : two Predicted Label : to \n",
      "True Label : one Predicted Label : one \n",
      "True Label : marvin Predicted Label : marvin \n",
      "True Label : happy Predicted Label : happy \n",
      "True Label : zero Predicted Label : zirau \n",
      "True Label : nine Predicted Label : nine \n",
      "True Label : six Predicted Label : six \n",
      "True Label : marvin Predicted Label : marvin \n",
      "True Label : seven Predicted Label : velin \n",
      "True Label : one Predicted Label : one \n",
      "True Label : wow Predicted Label : well \n",
      "True Label : two Predicted Label : too \n",
      "True Label : two Predicted Label : two \n",
      "True Label : one Predicted Label : one \n",
      "True Label : bed Predicted Label : bed \n",
      "True Label : five Predicted Label : five \n",
      "True Label : down Predicted Label : down \n",
      "True Label : up Predicted Label : up \n",
      "True Label : no Predicted Label : law \n",
      "True Label : four Predicted Label : four \n",
      "True Label : four Predicted Label : four \n",
      "True Label : left Predicted Label : left \n",
      "True Label : eight Predicted Label : eight \n",
      "True Label : bed Predicted Label : bed \n",
      "True Label : right Predicted Label : i \n"
     ]
    }
   ],
   "source": [
    "import jiwer\n",
    "count = 0\n",
    "total = 0\n",
    "for sample_ds, sample_ds_labels in test_ds:\n",
    "    with torch.inference_mode():\n",
    "        emission, _ = model(torch.from_numpy(np.asarray(sample_ds)))\n",
    "        decoder = GreedyCTCDecoder(labels = bundle.get_labels())\n",
    "        predict_label = decoder(emission[0])\n",
    "    \n",
    "    \n",
    "    # for _, label in test_ds:\n",
    "    #     true_label.append(label)\n",
    "    \n",
    "    # true_label = tf.concat(label, axis = 0)\n",
    "    # true_label = convert_to_label(true_label)    \n",
    "\n",
    "    true_label = convert_to_label(sample_ds_labels)\n",
    "    true_label = np.array(true_label)\n",
    "    # for i in range(len(sample_ds_labels)):\n",
    "    print(\"True Label :\" , true_label[0] ,\"Predicted Label :\", predict_label)\n",
    "    count+=1\n",
    "    wer = jiwer.wer(true_label[0], predict_label)\n",
    "    total+=wer"
   ]
  },
  {
   "cell_type": "code",
   "execution_count": 52,
   "metadata": {},
   "outputs": [
    {
     "name": "stdout",
     "output_type": "stream",
     "text": [
      "0.2647058823529412\n"
     ]
    }
   ],
   "source": [
    "print(total/count)"
   ]
  },
  {
   "cell_type": "code",
   "execution_count": 53,
   "metadata": {},
   "outputs": [
    {
     "name": "stdout",
     "output_type": "stream",
     "text": [
      "Word Error Rate: 26.47058823529412 %\n"
     ]
    }
   ],
   "source": [
    "print(f\"Word Error Rate: {(total/count)*100} %\")"
   ]
  }
 ],
 "metadata": {
  "kernelspec": {
   "display_name": "Python 3",
   "language": "python",
   "name": "python3"
  },
  "language_info": {
   "codemirror_mode": {
    "name": "ipython",
    "version": 3
   },
   "file_extension": ".py",
   "mimetype": "text/x-python",
   "name": "python",
   "nbconvert_exporter": "python",
   "pygments_lexer": "ipython3",
   "version": "3.12.3"
  }
 },
 "nbformat": 4,
 "nbformat_minor": 2
}
